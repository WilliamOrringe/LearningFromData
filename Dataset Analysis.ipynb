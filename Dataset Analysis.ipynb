{
 "cells": [
  {
   "cell_type": "markdown",
   "id": "31610857",
   "metadata": {},
   "source": [
    "# Learning From Data: Analysis"
   ]
  },
  {
   "cell_type": "markdown",
   "id": "54a6ca4f",
   "metadata": {},
   "source": [
    "## Getting data from dataset\n"
   ]
  },
  {
   "cell_type": "code",
   "execution_count": 45,
   "id": "fa9de90c",
   "metadata": {},
   "outputs": [],
   "source": [
    "import csv\n",
    "def get_netflix_data():\n",
    "    netflix_data = []\n",
    "    with open(\"dataset/netflix_titles.csv\", newline='', encoding=\"utf8\") as netflix_file:\n",
    "        reader = csv.DictReader(netflix_file)\n",
    "        for row in reader:\n",
    "            netflix_data.append(row)\n",
    "    netflix_file.close()\n",
    "    return netflix_data\n",
    "def get_disney_data():\n",
    "    disney_data = []\n",
    "    with open(\"dataset/disney_plus_titles.csv\", newline='', encoding=\"utf8\") as disney_file:\n",
    "        reader = csv.DictReader(disney_file)\n",
    "        for row in reader:\n",
    "            disney_data.append(row)\n",
    "    disney_file.close()\n",
    "    return disney_data"
   ]
  },
  {
   "cell_type": "markdown",
   "id": "1601e202",
   "metadata": {},
   "source": [
    "I need to update the disney ids by reading the last netflix id and starting the iterations from there.\n"
   ]
  },
  {
   "cell_type": "markdown",
   "id": "e2b54d2a",
   "metadata": {},
   "source": [
    "A: This analysis will focus on predicting whether a given show will be on netflix or on disney+"
   ]
  },
  {
   "cell_type": "markdown",
   "id": "eb4fc6be",
   "metadata": {},
   "source": [
    "B: Brief description of the data set you chose and a summary of its attributes\n",
    "\n",
    "I chose netflix and disney plus titles datasets which have the same attributes which are:\n",
    "\n",
    "- show_id : which is the arbitrary id given to the show.\n",
    "- type: is it a movie or a tv-show.\n",
    "- title: what is the title of the movie/tv-show.\n",
    "- director: who is the director.\n",
    "- cast: the most prominent actors in the movie/tv-show.\n",
    "- country: what is the country of origin of the company that made the movie/tv-show.\n",
    "- date_added: when was the movie/tv-show added to the given site.\n",
    "- release_year: what year was the movie/tv-show released in.\n",
    "- rating: age rating.\n",
    "- duration: how long the film is, or how many seasons the tv-show has."
   ]
  },
  {
   "cell_type": "markdown",
   "id": "e7d8b1eb",
   "metadata": {},
   "source": [
    "## Preprocessing"
   ]
  },
  {
   "cell_type": "markdown",
   "id": "7372a5c2",
   "metadata": {},
   "source": [
    "- Need to update all the id values for the disney plus data set. >\n",
    "- Need to add a marker whether the show/film is on netflix or on disney plus. >\n",
    "- Need to make the number of disney plus and netflix shows match by removing some of the netflix entries. >\n",
    "- Need to split the datset into training and test data. >"
   ]
  },
  {
   "cell_type": "markdown",
   "id": "719a5335",
   "metadata": {},
   "source": [
    "### Make the number of entries match:"
   ]
  },
  {
   "cell_type": "code",
   "execution_count": 49,
   "id": "5c06173c",
   "metadata": {},
   "outputs": [],
   "source": [
    "netflix_data = get_netflix_data()[:1368]"
   ]
  },
  {
   "cell_type": "markdown",
   "id": "1cfd1d90",
   "metadata": {},
   "source": [
    "### Update the disney ids:"
   ]
  },
  {
   "cell_type": "code",
   "execution_count": 56,
   "id": "0e6ac6e4",
   "metadata": {},
   "outputs": [],
   "source": [
    "disney_data = get_disney_data()\n",
    "for index, entry in enumerate(disney_data):\n",
    "    entry[\"show_id\"] = \"S\" + str(1369 + index)"
   ]
  },
  {
   "cell_type": "markdown",
   "id": "ea66b2dd",
   "metadata": {},
   "source": [
    "### Adding a field for whether the show is on netflix or on disney plus."
   ]
  },
  {
   "cell_type": "code",
   "execution_count": 59,
   "id": "97e23f69",
   "metadata": {},
   "outputs": [],
   "source": [
    "for index in range(len(disney_data)):\n",
    "    disney_data[index][\"netflix\"] = 0\n",
    "    netflix_data[index][\"netflix\"] = 1"
   ]
  },
  {
   "cell_type": "markdown",
   "id": "1be0cf96",
   "metadata": {},
   "source": [
    "### Splitting into training and test sets"
   ]
  },
  {
   "cell_type": "markdown",
   "id": "e0920405",
   "metadata": {},
   "source": [
    "17.7% test data and 82.3% training data"
   ]
  },
  {
   "cell_type": "code",
   "execution_count": 71,
   "id": "1d3ee85e",
   "metadata": {},
   "outputs": [],
   "source": [
    "bounds = int(len(disney_data) * 0.177)\n",
    "disney_test_data = disney_data[:bounds]\n",
    "disney_training_data = disney_data[bounds:]\n",
    "netflix_test_data = netflix_data[:bounds]\n",
    "netflix_training_data = netflix_data[bounds:]\n",
    "    "
   ]
  },
  {
   "cell_type": "markdown",
   "id": "9d05351b",
   "metadata": {},
   "source": [
    "### Combining the two datasets into one"
   ]
  },
  {
   "cell_type": "code",
   "execution_count": 77,
   "id": "6bf4e95e",
   "metadata": {},
   "outputs": [],
   "source": [
    "import random\n",
    "#add the test sets together\n",
    "disney_test_data.append(netflix_test_data)\n",
    "test_data = disney_test_data\n",
    "random.shuffle(test_data) #Shuffle\n",
    "\n",
    "#add the training sets together\n",
    "disney_training_data.append(netflix_training_data)\n",
    "training_data = disney_training_data\n",
    "random.shuffle(training_data) #Shuffle"
   ]
  },
  {
   "cell_type": "code",
   "execution_count": null,
   "id": "14927313",
   "metadata": {},
   "outputs": [],
   "source": []
  },
  {
   "cell_type": "code",
   "execution_count": null,
   "id": "c503f1dc",
   "metadata": {},
   "outputs": [],
   "source": []
  },
  {
   "cell_type": "code",
   "execution_count": null,
   "id": "2b69d603",
   "metadata": {},
   "outputs": [],
   "source": []
  },
  {
   "cell_type": "code",
   "execution_count": null,
   "id": "bd6f1390",
   "metadata": {},
   "outputs": [],
   "source": []
  },
  {
   "cell_type": "code",
   "execution_count": null,
   "id": "27ef12e5",
   "metadata": {},
   "outputs": [],
   "source": []
  }
 ],
 "metadata": {
  "kernelspec": {
   "display_name": "Python 3",
   "language": "python",
   "name": "python3"
  },
  "language_info": {
   "codemirror_mode": {
    "name": "ipython",
    "version": 3
   },
   "file_extension": ".py",
   "mimetype": "text/x-python",
   "name": "python",
   "nbconvert_exporter": "python",
   "pygments_lexer": "ipython3",
   "version": "3.8.8"
  }
 },
 "nbformat": 4,
 "nbformat_minor": 5
}
